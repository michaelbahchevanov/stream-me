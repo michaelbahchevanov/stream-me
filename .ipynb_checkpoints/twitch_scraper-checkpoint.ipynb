{
 "cells": [
  {
   "cell_type": "code",
   "execution_count": 9,
   "id": "9a282acd",
   "metadata": {},
   "outputs": [],
   "source": [
    "from selenium import webdriver\n",
    "from selenium.webdriver.common.keys import Keys\n",
    "from selenium.webdriver.support.ui import WebDriverWait\n",
    "from selenium.webdriver.chrome.options import Options\n",
    "from selenium.webdriver.common.by import By\n",
    "from selenium.webdriver.support import expected_conditions as EC\n",
    "import numpy as np\n",
    "import time\n",
    "import os\n",
    "import sys\n",
    "import requests\n",
    "from bs4 import BeautifulSoup as bs\n",
    "import pandas as pd\n",
    "\n",
    "chrome_options = Options()\n",
    "chrome_options.add_argument('--headless')"
   ]
  },
  {
   "cell_type": "code",
   "execution_count": 2,
   "id": "e7ddc180",
   "metadata": {},
   "outputs": [],
   "source": [
    "url = 'https://www.twitch.tv/directory'\n",
    "path_to_driver = '/usr/bin/chromedriver'\n",
    "chrome = webdriver.Chrome(path_to_driver, options=chrome_options)"
   ]
  },
  {
   "cell_type": "code",
   "execution_count": 3,
   "id": "121804db",
   "metadata": {},
   "outputs": [],
   "source": [
    "df = pd.read_csv('./data/top_live_streamers.csv')\n",
    "games = list(df['game_name'].unique())"
   ]
  },
  {
   "cell_type": "code",
   "execution_count": 4,
   "id": "eb776753",
   "metadata": {
    "scrolled": true
   },
   "outputs": [
    {
     "data": {
      "text/plain": [
       "102"
      ]
     },
     "execution_count": 4,
     "metadata": {},
     "output_type": "execute_result"
    }
   ],
   "source": [
    "len(games)"
   ]
  },
  {
   "cell_type": "code",
   "execution_count": 14,
   "id": "569f19b0",
   "metadata": {},
   "outputs": [
    {
     "data": {
      "text/plain": [
       "'Just Chatting'"
      ]
     },
     "execution_count": 14,
     "metadata": {},
     "output_type": "execute_result"
    }
   ],
   "source": [
    "games[0]"
   ]
  },
  {
   "cell_type": "code",
   "execution_count": 61,
   "id": "23780cfb",
   "metadata": {
    "scrolled": false
   },
   "outputs": [
    {
     "name": "stdout",
     "output_type": "stream",
     "text": [
      "30\n"
     ]
    }
   ],
   "source": [
    "def get_top_games_genres(games):\n",
    "    result = []\n",
    "    xpath = chrome.find_elements_by_xpath(\"//h3[contains(@class,'tw-ellipsis')]\")\n",
    "    print(len(xpath))\n",
    "    \n",
    "    \n",
    "    #for i in range(len(games)):\n",
    "        #print(i)\n",
    "get_top_games_genres(games)"
   ]
  },
  {
   "cell_type": "code",
   "execution_count": null,
   "id": "9c8d750e",
   "metadata": {},
   "outputs": [],
   "source": []
  }
 ],
 "metadata": {
  "kernelspec": {
   "display_name": "Python 3",
   "language": "python",
   "name": "python3"
  },
  "language_info": {
   "codemirror_mode": {
    "name": "ipython",
    "version": 3
   },
   "file_extension": ".py",
   "mimetype": "text/x-python",
   "name": "python",
   "nbconvert_exporter": "python",
   "pygments_lexer": "ipython3",
   "version": "3.7.10"
  }
 },
 "nbformat": 4,
 "nbformat_minor": 5
}
