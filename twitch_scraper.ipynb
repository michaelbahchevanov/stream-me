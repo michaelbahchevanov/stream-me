{
 "cells": [
  {
   "cell_type": "code",
   "execution_count": 1,
   "id": "9a282acd",
   "metadata": {},
   "outputs": [],
   "source": [
    "from selenium import webdriver\n",
    "from selenium.webdriver.common.keys import Keys\n",
    "from selenium.webdriver.support.ui import WebDriverWait\n",
    "from selenium.webdriver.chrome.options import Options\n",
    "from selenium.webdriver.common.by import By\n",
    "from selenium.webdriver.support import expected_conditions as EC\n",
    "from selenium.webdriver.common.action_chains import ActionChains\n",
    "import numpy as np\n",
    "import time\n",
    "import os\n",
    "import sys\n",
    "import requests\n",
    "from bs4 import BeautifulSoup as bs\n",
    "import pandas as pd\n",
    "\n",
    "chrome_options = Options()\n",
    "chrome_options.add_argument('--headless')"
   ]
  },
  {
   "cell_type": "code",
   "execution_count": 2,
   "id": "e7ddc180",
   "metadata": {},
   "outputs": [],
   "source": [
    "url = 'https://www.twitch.tv/directory?sort=VIEWER_COUNT'\n",
    "path_to_driver = '/usr/bin/chromedriver'\n",
    "chrome = webdriver.Chrome(path_to_driver, options=chrome_options)\n",
    "chrome.get(url)"
   ]
  },
  {
   "cell_type": "code",
   "execution_count": 3,
   "id": "121804db",
   "metadata": {},
   "outputs": [],
   "source": [
    "df = pd.read_csv('./data/top_live_streamers.csv')\n",
    "games = list(df['game_name'].unique())"
   ]
  },
  {
   "cell_type": "code",
   "execution_count": 4,
   "id": "eb776753",
   "metadata": {
    "scrolled": true
   },
   "outputs": [
    {
     "data": {
      "text/plain": [
       "102"
      ]
     },
     "execution_count": 4,
     "metadata": {},
     "output_type": "execute_result"
    }
   ],
   "source": [
    "len(games)"
   ]
  },
  {
   "cell_type": "code",
   "execution_count": 5,
   "id": "bdea7ae5",
   "metadata": {},
   "outputs": [
    {
     "data": {
      "text/plain": [
       "'LOST ARK'"
      ]
     },
     "execution_count": 5,
     "metadata": {},
     "output_type": "execute_result"
    }
   ],
   "source": [
    "games[27]"
   ]
  },
  {
   "cell_type": "code",
   "execution_count": 14,
   "id": "23780cfb",
   "metadata": {
    "scrolled": false
   },
   "outputs": [
    {
     "name": "stdout",
     "output_type": "stream",
     "text": [
      "29\n"
     ]
    }
   ],
   "source": [
    "def get_top_games_genres(games):\n",
    "    time.sleep(.5)\n",
    "    result = []\n",
    "    \n",
    "    temp = []\n",
    "    page = chrome.find_element_by_xpath('//*[@id=\"root\"]/div/div[2]/div/main/div[2]')\n",
    "    #page.send_keys(Keys.END)\n",
    "    #chrome.send_keys(Keys.END)\n",
    "    #actions = ActionChains(chrome)\n",
    "    chrome.execute_script('window.scrollBy(0,250)')\n",
    "    chrome.execute_script('arguments[0].scrollIntoView(true);', page)\n",
    "    #try:\n",
    "    \n",
    "\n",
    "    categories = chrome.find_elements_by_xpath(\"//h3[contains(@class,'tw-ellipsis')]\")\n",
    "    temp = [cat.text for cat in categories]\n",
    "    print(len(categories))\n",
    "        \n",
    "    #except:\n",
    "        #print('cock')\n",
    "get_top_games_genres(games)"
   ]
  },
  {
   "cell_type": "code",
   "execution_count": null,
   "id": "69a11f66",
   "metadata": {},
   "outputs": [],
   "source": []
  }
 ],
 "metadata": {
  "kernelspec": {
   "display_name": "Python 3",
   "language": "python",
   "name": "python3"
  },
  "language_info": {
   "codemirror_mode": {
    "name": "ipython",
    "version": 3
   },
   "file_extension": ".py",
   "mimetype": "text/x-python",
   "name": "python",
   "nbconvert_exporter": "python",
   "pygments_lexer": "ipython3",
   "version": "3.7.10"
  }
 },
 "nbformat": 4,
 "nbformat_minor": 5
}
