{
 "cells": [
  {
   "cell_type": "code",
   "execution_count": 9,
   "id": "9a282acd",
   "metadata": {},
   "outputs": [],
   "source": [
    "from selenium import webdriver\n",
    "from selenium.webdriver.common.keys import Keys\n",
    "from selenium.webdriver.support.ui import WebDriverWait\n",
    "from selenium.webdriver.chrome.options import Options\n",
    "from selenium.webdriver.common.by import By\n",
    "from selenium.webdriver.support import expected_conditions as EC\n",
    "import numpy as np\n",
    "import time\n",
    "import os\n",
    "import sys\n",
    "import requests\n",
    "from bs4 import BeautifulSoup as bs\n",
    "import pandas as pd\n",
    "\n",
    "chrome_options = Options()\n",
    "chrome_options.add_argument('--headless')"
   ]
  },
  {
   "cell_type": "code",
   "execution_count": 114,
   "id": "e7ddc180",
   "metadata": {},
   "outputs": [],
   "source": [
    "url = 'https://www.twitch.tv/directory?sort=VIEWER_COUNT'\n",
    "path_to_driver = '/usr/bin/chromedriver'\n",
    "chrome = webdriver.Chrome(path_to_driver, options=chrome_options)"
   ]
  },
  {
   "cell_type": "code",
   "execution_count": 115,
   "id": "121804db",
   "metadata": {},
   "outputs": [],
   "source": [
    "df = pd.read_csv('./data/top_live_streamers.csv')\n",
    "games = list(df['game_name'].unique())"
   ]
  },
  {
   "cell_type": "code",
   "execution_count": 116,
   "id": "eb776753",
   "metadata": {
    "scrolled": true
   },
   "outputs": [
    {
     "data": {
      "text/plain": [
       "102"
      ]
     },
     "execution_count": 116,
     "metadata": {},
     "output_type": "execute_result"
    }
   ],
   "source": [
    "len(games)"
   ]
  },
  {
   "cell_type": "code",
   "execution_count": 138,
   "id": "312366b6",
   "metadata": {},
   "outputs": [
    {
     "data": {
      "text/plain": [
       "'LOST ARK'"
      ]
     },
     "execution_count": 138,
     "metadata": {},
     "output_type": "execute_result"
    }
   ],
   "source": [
    "games[27]"
   ]
  },
  {
   "cell_type": "code",
   "execution_count": 133,
   "id": "23780cfb",
   "metadata": {
    "scrolled": false
   },
   "outputs": [
    {
     "name": "stdout",
     "output_type": "stream",
     "text": [
      "['Just Chatting', 'Grand Theft Auto V', 'League of Legends', 'Fortnite', 'VALORANT', 'Call of Duty: Warzone', 'Counter-Strike: Global Offensive', 'Minecraft', 'Dota 2', 'Apex Legends', 'Rocket League', 'StarCraft', 'Dead by Daylight', 'The Binding of Isaac: Afterbirth', 'World of Warcraft', 'Escape from Tarkov', 'Among Us', 'It Takes Two', 'Slots', 'Hearthstone', 'Diablo II: Resurrected', 'Chess', 'Teamfight Tactics', 'FIFA 21', 'Sports', 'Mr. Prepper', 'World of Tanks', 'Science & Technology', \"Tom Clancy's Rainbow Six Siege\"]\n"
     ]
    }
   ],
   "source": [
    "def get_top_games_genres(games):\n",
    "    result = []\n",
    "    \n",
    "    temp = []\n",
    "    categories = chrome.find_elements_by_xpath(\"//h3[contains(@class,'tw-ellipsis')]\")\n",
    "    #tags = chrome.find_elements_by_xpath(\"//h3[contains(@class,'tw-ellipsis')]\")\n",
    "    temp = [cat.text for cat in categories]\n",
    "    print(temp)\n",
    "    #for cock in categories:\n",
    "        #print(cock.text)\n",
    "    \n",
    "    \n",
    "    #for i in range(len(games)):\n",
    "        #print(i)\n",
    "get_top_games_genres(games)"
   ]
  },
  {
   "cell_type": "code",
   "execution_count": null,
   "id": "2ac1a5e0",
   "metadata": {},
   "outputs": [],
   "source": []
  }
 ],
 "metadata": {
  "kernelspec": {
   "display_name": "Python 3",
   "language": "python",
   "name": "python3"
  },
  "language_info": {
   "codemirror_mode": {
    "name": "ipython",
    "version": 3
   },
   "file_extension": ".py",
   "mimetype": "text/x-python",
   "name": "python",
   "nbconvert_exporter": "python",
   "pygments_lexer": "ipython3",
   "version": "3.7.10"
  }
 },
 "nbformat": 4,
 "nbformat_minor": 5
}
