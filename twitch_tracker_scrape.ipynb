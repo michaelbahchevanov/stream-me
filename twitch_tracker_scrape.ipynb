{
 "cells": [
  {
   "cell_type": "markdown",
   "id": "6c6f8657",
   "metadata": {},
   "source": [
    "# <center>Scraping twitch tracker for the top 500 streamers for the top 10 games</center>\n",
    "***"
   ]
  },
  {
   "cell_type": "code",
   "execution_count": 1,
   "id": "2f708c44",
   "metadata": {},
   "outputs": [],
   "source": [
    "import pandas as pd\n",
    "import numpy as np\n",
    "import bs4\n",
    "import time\n",
    "from bs4 import BeautifulSoup as bs\n",
    "from selenium import webdriver\n",
    "from selenium.webdriver.chrome.options import Options\n",
    "\n",
    "pd.options.display.float_format = '{:.0f}'.format\n",
    "chrome_options = Options()\n",
    "chrome_options.add_argument('--headless')\n",
    "path_to_driver = '/usr/bin/chromedriver'\n",
    "chrome = webdriver.Chrome(path_to_driver, options=chrome_options)"
   ]
  },
  {
   "cell_type": "code",
   "execution_count": 2,
   "id": "d12e5410",
   "metadata": {},
   "outputs": [],
   "source": [
    "def save_df_as_csv(df):\n",
    "    import os\n",
    "    path = r'./data/top_streamers.csv'\n",
    "    \n",
    "    if not os.path.exists(r'./data'):\n",
    "        os.mkdir(r'./data')\n",
    "    \n",
    "    if os.path.isfile(path):\n",
    "        os.remove(path)\n",
    "        df.to_csv(path, index=False)\n",
    "        return 'file overriden'\n",
    "    else:\n",
    "        df.to_csv(path, index=False)\n",
    "        return 'saved'"
   ]
  },
  {
   "cell_type": "code",
   "execution_count": 3,
   "id": "b33cfcba",
   "metadata": {},
   "outputs": [],
   "source": [
    "def load_csv(path):\n",
    "    import os\n",
    "    if not os.path.isfile(path):\n",
    "        raise Exception('path does not exist')\n",
    "    return pd.read_csv(path)"
   ]
  },
  {
   "cell_type": "code",
   "execution_count": 4,
   "id": "d3b329f7",
   "metadata": {},
   "outputs": [],
   "source": [
    "def get_top_n_most_subscribed_streamers(driver=None, n=10):\n",
    "    if driver is None:\n",
    "        raise Exception('You have to provide a web driver')\n",
    "        \n",
    "    headers = ['#', 'streamer_name']\n",
    "    result = []\n",
    "    url = 'https://twitchtracker.com/subscribers?page='\n",
    "    for i in range(n):\n",
    "        print('extracting page ' + str(i+1))\n",
    "        driver.get(url + str(i+1))\n",
    "        html = driver.execute_script('return document.body.innerHTML;')\n",
    "        soup = bs(html, 'lxml')\n",
    "        for j in range(21):\n",
    "            if j+1 == 11:\n",
    "                continue\n",
    "            temp = []\n",
    "            streamer_position = soup.table.find_all('tr')[j+1].find_all('td')[0].text.replace('#', '')\n",
    "            streamer_name = soup.table.find_all('tr')[j+1].find_all('td')[3].a.text\n",
    "            temp.append([streamer_position, streamer_name])\n",
    "            result.append(temp)\n",
    "        time.sleep(3)\n",
    "    result = np.array(result)\n",
    "    result = result.squeeze()\n",
    "    return pd.DataFrame(result, columns=headers)"
   ]
  },
  {
   "cell_type": "code",
   "execution_count": 39,
   "id": "7feca4ae",
   "metadata": {},
   "outputs": [],
   "source": [
    "def get_streamer_names(driver=None, names=''):\n",
    "    if driver is None:\n",
    "        raise Exception('You have to provide a web driver')\n",
    "        \n",
    "    headers = ['streamer_name', 'hours_streamed', 'average_viewers', \n",
    "               'peak_viewers', 'hours_watched', 'followers_gained', \n",
    "               'followers_per_hour', 'viewers_gained', 'active_days']\n",
    "    result = []\n",
    "    url = 'https://twitchtracker.com/'\n",
    "    \n",
    "    for name in names:\n",
    "        if name == 'RanbooLive':\n",
    "            print('my')\n",
    "            break\n",
    "        driver.get(url + name)\n",
    "        month_button = driver.find_element_by_xpath('//*[@id=\"select-performance\"]/span[2]')\n",
    "        month_button.click()\n",
    "        html = driver.execute_script('return document.body.innerHTML;')\n",
    "        soup = bs(html, 'lxml')\n",
    "        \n",
    "        result.append([name])\n",
    "        for i in range(len(headers)):\n",
    "            temp = []\n",
    "            if i < 7:\n",
    "                data = soup.find_all('div', {'id': 'performance-panel'})[0].find_all('div', {'class': 'g-x-s-value g-x-s-contrast'})[i].find_all('span')[0].text\n",
    "                temp.append(data)\n",
    "            elif i == 7:\n",
    "                print('ass')\n",
    "                active_days = soup.find_all('div', {'id': 'performance-panel'})[0].find_all('div', {'class': 'g-x-s-value g-x-s-contrast'})[i].find_all('span')[0].text.split('/')[0]\n",
    "                temp.append(active_days)\n",
    "            result.append(temp)\n",
    "        # soup.find_all('div', {'id': 'performance-panel'})[0].find_all('div', {'class': 'g-x-s-value g-x-s-contrast'})[2].find_all('span')[0].text\n",
    "    print(np.array(result)[:-1].reshape(1, 9))\n",
    "    return pd.DataFrame(np.array(result).squeeze()[:-1].reshape(1, 9), columns=headers)"
   ]
  },
  {
   "cell_type": "code",
   "execution_count": 40,
   "id": "c744260a",
   "metadata": {
    "scrolled": false
   },
   "outputs": [
    {
     "name": "stdout",
     "output_type": "stream",
     "text": [
      "ass\n",
      "my\n",
      "[[list(['ludwig']) list(['620']) list(['40,744']) list(['96,602'])\n",
      "  list(['25,263,016']) list(['851,015']) list(['1,372'])\n",
      "  list(['30,580,688']) list(['29'])]]\n"
     ]
    },
    {
     "name": "stderr",
     "output_type": "stream",
     "text": [
      "/home/mykull/miniconda3/envs/twitch-scrape/lib/python3.7/site-packages/ipykernel_launcher.py:33: VisibleDeprecationWarning: Creating an ndarray from ragged nested sequences (which is a list-or-tuple of lists-or-tuples-or ndarrays with different lengths or shapes) is deprecated. If you meant to do this, you must specify 'dtype=object' when creating the ndarray\n",
      "/home/mykull/miniconda3/envs/twitch-scrape/lib/python3.7/site-packages/ipykernel_launcher.py:34: VisibleDeprecationWarning: Creating an ndarray from ragged nested sequences (which is a list-or-tuple of lists-or-tuples-or ndarrays with different lengths or shapes) is deprecated. If you meant to do this, you must specify 'dtype=object' when creating the ndarray\n"
     ]
    },
    {
     "data": {
      "text/html": [
       "<div>\n",
       "<style scoped>\n",
       "    .dataframe tbody tr th:only-of-type {\n",
       "        vertical-align: middle;\n",
       "    }\n",
       "\n",
       "    .dataframe tbody tr th {\n",
       "        vertical-align: top;\n",
       "    }\n",
       "\n",
       "    .dataframe thead th {\n",
       "        text-align: right;\n",
       "    }\n",
       "</style>\n",
       "<table border=\"1\" class=\"dataframe\">\n",
       "  <thead>\n",
       "    <tr style=\"text-align: right;\">\n",
       "      <th></th>\n",
       "      <th>streamer_name</th>\n",
       "      <th>hours_streamed</th>\n",
       "      <th>average_viewers</th>\n",
       "      <th>peak_viewers</th>\n",
       "      <th>hours_watched</th>\n",
       "      <th>followers_gained</th>\n",
       "      <th>followers_per_hour</th>\n",
       "      <th>viewers_gained</th>\n",
       "      <th>active_days</th>\n",
       "    </tr>\n",
       "  </thead>\n",
       "  <tbody>\n",
       "    <tr>\n",
       "      <th>0</th>\n",
       "      <td>[ludwig]</td>\n",
       "      <td>[620]</td>\n",
       "      <td>[40,744]</td>\n",
       "      <td>[96,602]</td>\n",
       "      <td>[25,263,016]</td>\n",
       "      <td>[851,015]</td>\n",
       "      <td>[1,372]</td>\n",
       "      <td>[30,580,688]</td>\n",
       "      <td>[29]</td>\n",
       "    </tr>\n",
       "  </tbody>\n",
       "</table>\n",
       "</div>"
      ],
      "text/plain": [
       "  streamer_name hours_streamed average_viewers peak_viewers hours_watched  \\\n",
       "0      [ludwig]          [620]        [40,744]     [96,602]  [25,263,016]   \n",
       "\n",
       "  followers_gained followers_per_hour viewers_gained active_days  \n",
       "0        [851,015]            [1,372]   [30,580,688]        [29]  "
      ]
     },
     "execution_count": 40,
     "metadata": {},
     "output_type": "execute_result"
    }
   ],
   "source": [
    "path = r'./data/top_streamers.csv'\n",
    "#df = get_top_n_most_subscribed_streamers(driver=chrome, n=1)\n",
    "#save_df_as_csv(df)\n",
    "df = load_csv(path)\n",
    "streamer_names = np.array(df['streamer_name'])\n",
    "get_streamer_names(chrome, streamer_names)"
   ]
  },
  {
   "cell_type": "code",
   "execution_count": null,
   "id": "aee4e293",
   "metadata": {},
   "outputs": [],
   "source": []
  }
 ],
 "metadata": {
  "kernelspec": {
   "display_name": "Python 3",
   "language": "python",
   "name": "python3"
  },
  "language_info": {
   "codemirror_mode": {
    "name": "ipython",
    "version": 3
   },
   "file_extension": ".py",
   "mimetype": "text/x-python",
   "name": "python",
   "nbconvert_exporter": "python",
   "pygments_lexer": "ipython3",
   "version": "3.7.10"
  }
 },
 "nbformat": 4,
 "nbformat_minor": 5
}
